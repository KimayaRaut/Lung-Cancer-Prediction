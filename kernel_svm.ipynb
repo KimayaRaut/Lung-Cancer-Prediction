{
 "cells": [
  {
   "cell_type": "markdown",
   "metadata": {
    "colab_type": "text",
    "id": "0MRC0e0KhQ0S"
   },
   "source": [
    "# Kernel SVM"
   ]
  },
  {
   "cell_type": "markdown",
   "metadata": {
    "colab_type": "text",
    "id": "LWd1UlMnhT2s"
   },
   "source": [
    "## Importing the libraries"
   ]
  },
  {
   "cell_type": "code",
   "execution_count": 1,
   "metadata": {
    "colab": {},
    "colab_type": "code",
    "id": "YvGPUQaHhXfL"
   },
   "outputs": [],
   "source": [
    "import numpy as np\n",
    "import matplotlib.pyplot as plt\n",
    "import pandas as pd"
   ]
  },
  {
   "cell_type": "markdown",
   "metadata": {
    "colab_type": "text",
    "id": "K1VMqkGvhc3-"
   },
   "source": [
    "## Importing the dataset"
   ]
  },
  {
   "cell_type": "code",
   "execution_count": 3,
   "metadata": {
    "colab": {},
    "colab_type": "code",
    "id": "M52QDmyzhh9s"
   },
   "outputs": [],
   "source": [
    "dataset = pd.read_csv('lung_cancer.csv')\n",
    "X = dataset.iloc[:, 2:-1].values\n",
    "y = dataset.iloc[:, -1].values"
   ]
  },
  {
   "cell_type": "code",
   "execution_count": 4,
   "metadata": {},
   "outputs": [
    {
     "name": "stdout",
     "output_type": "stream",
     "text": [
      "[[35  3  5  4]\n",
      " [27 20  2  5]\n",
      " [30  0  5  2]\n",
      " [28  0  8  1]\n",
      " [68  4  5  6]\n",
      " [34  0 10  0]\n",
      " [58 15 10  0]\n",
      " [22 12  5  2]\n",
      " [45  2  6  0]\n",
      " [52 18  4  5]\n",
      " [33  4  8  0]\n",
      " [18 10  6  3]\n",
      " [25  2  5  1]\n",
      " [28 20  2  8]\n",
      " [34 25  4  8]\n",
      " [39 18  8  1]\n",
      " [42 22  3  5]\n",
      " [19 12  8  0]\n",
      " [62  5  4  3]\n",
      " [73 10  7  6]\n",
      " [55 15  1  3]\n",
      " [33  8  8  1]\n",
      " [22 20  6  2]\n",
      " [44  5  8  1]\n",
      " [77  3  2  6]\n",
      " [21 20  5  3]\n",
      " [37 15  6  2]\n",
      " [34 12  8  0]\n",
      " [55 20  1  4]\n",
      " [40 20  2  7]\n",
      " [36 13  5  2]\n",
      " [56 20  3  3]\n",
      " [47 15  1  8]\n",
      " [62 25  3  4]\n",
      " [26 10  7  2]\n",
      " [25 20  8  2]\n",
      " [59 20  3  4]\n",
      " [62 15  5  5]\n",
      " [33 25  8  2]\n",
      " [37 10  5  3]\n",
      " [50 20  2  4]\n",
      " [47 12  8  0]\n",
      " [69 20  5  4]\n",
      " [63 20  4  5]\n",
      " [39 15  7  2]\n",
      " [21 20  8  3]\n",
      " [31 20  9  4]\n",
      " [28 10  4  1]\n",
      " [53 20  6  3]\n",
      " [62 20  5  6]\n",
      " [42 12  6  2]\n",
      " [44 30  1  6]\n",
      " [26 34  1  8]\n",
      " [35 20  5  1]\n",
      " [26 13  6  1]\n",
      " [77 20  5  4]\n",
      " [75 15  3  5]\n",
      " [43 30  3  8]\n",
      " [51 25  9  0]]\n"
     ]
    }
   ],
   "source": [
    "print(X)"
   ]
  },
  {
   "cell_type": "code",
   "execution_count": 5,
   "metadata": {},
   "outputs": [
    {
     "name": "stdout",
     "output_type": "stream",
     "text": [
      "[1 1 0 0 1 0 0 0 0 1 0 0 0 1 1 0 1 0 1 1 1 0 0 0 1 0 0 0 1 1 0 1 1 1 0 0 1\n",
      " 1 0 0 1 0 1 1 0 0 0 0 1 1 0 1 1 0 0 1 1 1 0]\n"
     ]
    }
   ],
   "source": [
    "print(y)"
   ]
  },
  {
   "cell_type": "markdown",
   "metadata": {
    "colab_type": "text",
    "id": "YvxIPVyMhmKp"
   },
   "source": [
    "## Splitting the dataset into the Training set and Test set"
   ]
  },
  {
   "cell_type": "code",
   "execution_count": 6,
   "metadata": {
    "colab": {},
    "colab_type": "code",
    "id": "AVzJWAXIhxoC"
   },
   "outputs": [],
   "source": [
    "from sklearn.model_selection import train_test_split\n",
    "X_train, X_test, y_train, y_test = train_test_split(X, y, test_size = 0.25, random_state = 0)"
   ]
  },
  {
   "cell_type": "code",
   "execution_count": 7,
   "metadata": {},
   "outputs": [
    {
     "name": "stdout",
     "output_type": "stream",
     "text": [
      "[[69 20  5  4]\n",
      " [53 20  6  3]\n",
      " [22 12  5  2]\n",
      " [34 25  4  8]\n",
      " [47 15  1  8]\n",
      " [62 20  5  6]\n",
      " [40 20  2  7]\n",
      " [62 15  5  5]\n",
      " [75 15  3  5]\n",
      " [62  5  4  3]\n",
      " [77 20  5  4]\n",
      " [34 12  8  0]\n",
      " [39 18  8  1]\n",
      " [34  0 10  0]\n",
      " [56 20  3  3]\n",
      " [42 22  3  5]\n",
      " [42 12  6  2]\n",
      " [55 15  1  3]\n",
      " [44 30  1  6]\n",
      " [45  2  6  0]\n",
      " [28 20  2  8]\n",
      " [21 20  5  3]\n",
      " [19 12  8  0]\n",
      " [51 25  9  0]\n",
      " [43 30  3  8]\n",
      " [26 34  1  8]\n",
      " [33 25  8  2]\n",
      " [27 20  2  5]\n",
      " [25  2  5  1]\n",
      " [21 20  8  3]\n",
      " [77  3  2  6]\n",
      " [58 15 10  0]\n",
      " [44  5  8  1]\n",
      " [59 20  3  4]\n",
      " [33  8  8  1]\n",
      " [73 10  7  6]\n",
      " [52 18  4  5]\n",
      " [37 10  5  3]\n",
      " [26 13  6  1]\n",
      " [28  0  8  1]\n",
      " [35  3  5  4]\n",
      " [35 20  5  1]\n",
      " [28 10  4  1]\n",
      " [39 15  7  2]]\n"
     ]
    }
   ],
   "source": [
    "print(X_train)"
   ]
  },
  {
   "cell_type": "code",
   "execution_count": 8,
   "metadata": {},
   "outputs": [
    {
     "name": "stdout",
     "output_type": "stream",
     "text": [
      "[[37 15  6  2]\n",
      " [25 20  8  2]\n",
      " [63 20  4  5]\n",
      " [55 20  1  4]\n",
      " [18 10  6  3]\n",
      " [30  0  5  2]\n",
      " [26 10  7  2]\n",
      " [31 20  9  4]\n",
      " [50 20  2  4]\n",
      " [22 20  6  2]\n",
      " [68  4  5  6]\n",
      " [33  4  8  0]\n",
      " [36 13  5  2]\n",
      " [47 12  8  0]\n",
      " [62 25  3  4]]\n"
     ]
    }
   ],
   "source": [
    "print(X_test)"
   ]
  },
  {
   "cell_type": "code",
   "execution_count": 9,
   "metadata": {},
   "outputs": [
    {
     "name": "stdout",
     "output_type": "stream",
     "text": [
      "[1 1 0 1 1 1 1 1 1 1 1 0 0 0 1 1 0 1 1 0 1 0 0 0 1 1 0 1 0 0 1 0 0 1 0 1 1\n",
      " 0 0 0 1 0 0 0]\n"
     ]
    }
   ],
   "source": [
    "print(y_train)"
   ]
  },
  {
   "cell_type": "code",
   "execution_count": 10,
   "metadata": {},
   "outputs": [
    {
     "name": "stdout",
     "output_type": "stream",
     "text": [
      "[0 0 1 1 0 0 0 0 1 0 1 0 0 0 1]\n"
     ]
    }
   ],
   "source": [
    "print(y_test)"
   ]
  },
  {
   "cell_type": "markdown",
   "metadata": {
    "colab_type": "text",
    "id": "kW3c7UYih0hT"
   },
   "source": [
    "## Feature Scaling"
   ]
  },
  {
   "cell_type": "code",
   "execution_count": 11,
   "metadata": {
    "colab": {},
    "colab_type": "code",
    "id": "9fQlDPKCh8sc"
   },
   "outputs": [],
   "source": [
    "from sklearn.preprocessing import StandardScaler\n",
    "sc = StandardScaler()\n",
    "X_train = sc.fit_transform(X_train)\n",
    "X_test = sc.transform(X_test)"
   ]
  },
  {
   "cell_type": "markdown",
   "metadata": {
    "colab_type": "text",
    "id": "bb6jCOCQiAmP"
   },
   "source": [
    "## Training the Kernel SVM model on the Training set"
   ]
  },
  {
   "cell_type": "code",
   "execution_count": 14,
   "metadata": {
    "colab": {},
    "colab_type": "code",
    "id": "e0pFVAmciHQs"
   },
   "outputs": [
    {
     "data": {
      "text/plain": [
       "SVC(C=0.25, gamma=0.1, kernel='linear', random_state=0)"
      ]
     },
     "execution_count": 14,
     "metadata": {},
     "output_type": "execute_result"
    }
   ],
   "source": [
    "from sklearn.svm import SVC\n",
    "classifier = SVC(kernel = 'linear', C= 0.25, gamma= 0.1, random_state = 0)\n",
    "classifier.fit(X_train, y_train)"
   ]
  },
  {
   "cell_type": "markdown",
   "metadata": {},
   "source": [
    "# Applying Grid Search to find the best model and the best parameters"
   ]
  },
  {
   "cell_type": "code",
   "execution_count": 13,
   "metadata": {},
   "outputs": [
    {
     "name": "stdout",
     "output_type": "stream",
     "text": [
      "Best Accuracy: 97.50 %\n",
      "Best Parameters: {'C': 0.25, 'kernel': 'linear'}\n"
     ]
    }
   ],
   "source": [
    "from sklearn.model_selection import GridSearchCV\n",
    "parameters = [{'C': [0.25, 0.5, 0.75, 1], 'kernel': ['linear']},\n",
    "              {'C': [0.25, 0.5, 0.75, 1], 'kernel': ['rbf'], 'gamma': [0.1, 0.2, 0.3, 0.4, 0.5, 0.6, 0.7, 0.8, 0.9]}]\n",
    "grid_search = GridSearchCV(estimator = classifier,\n",
    "                           param_grid = parameters,\n",
    "                           scoring = 'accuracy',\n",
    "                           cv = 10,\n",
    "                           n_jobs = -1)\n",
    "grid_search.fit(X_train, y_train)\n",
    "best_accuracy = grid_search.best_score_\n",
    "best_parameters = grid_search.best_params_\n",
    "print(\"Best Accuracy: {:.2f} %\".format(best_accuracy*100))\n",
    "print(\"Best Parameters:\", best_parameters)"
   ]
  },
  {
   "cell_type": "markdown",
   "metadata": {},
   "source": [
    "## Predicting the Test set results "
   ]
  },
  {
   "cell_type": "code",
   "execution_count": 15,
   "metadata": {},
   "outputs": [
    {
     "name": "stdout",
     "output_type": "stream",
     "text": [
      "[[0 0]\n",
      " [0 0]\n",
      " [1 1]\n",
      " [1 1]\n",
      " [0 0]\n",
      " [0 0]\n",
      " [0 0]\n",
      " [0 0]\n",
      " [1 1]\n",
      " [0 0]\n",
      " [1 1]\n",
      " [0 0]\n",
      " [0 0]\n",
      " [0 0]\n",
      " [1 1]]\n"
     ]
    }
   ],
   "source": [
    "y_pred = classifier.predict(X_test)\n",
    "print(np.concatenate((y_pred.reshape(len(y_pred),1), y_test.reshape(len(y_test),1)),1))"
   ]
  },
  {
   "cell_type": "markdown",
   "metadata": {
    "colab_type": "text",
    "id": "h4Hwj34ziWQW"
   },
   "source": [
    "## Making the Confusion Matrix"
   ]
  },
  {
   "cell_type": "code",
   "execution_count": 16,
   "metadata": {
    "colab": {},
    "colab_type": "code",
    "id": "D6bpZwUiiXic"
   },
   "outputs": [
    {
     "name": "stdout",
     "output_type": "stream",
     "text": [
      "[[10  0]\n",
      " [ 0  5]]\n"
     ]
    }
   ],
   "source": [
    "from sklearn.metrics import confusion_matrix, accuracy_score\n",
    "y_pred = classifier.predict(X_test)\n",
    "cm = confusion_matrix(y_test, y_pred)\n",
    "print(cm)\n",
    "# accuracy_score(y_test, y_pred)"
   ]
  },
  {
   "cell_type": "markdown",
   "metadata": {},
   "source": [
    "## Applying k-Fold Cross Validation# "
   ]
  },
  {
   "cell_type": "code",
   "execution_count": 17,
   "metadata": {},
   "outputs": [
    {
     "name": "stdout",
     "output_type": "stream",
     "text": [
      "Accuracy: 97.50 %\n",
      "Standard Deviation: 7.50 %\n"
     ]
    }
   ],
   "source": [
    "from sklearn.model_selection import cross_val_score\n",
    "accuracies = cross_val_score(estimator = classifier, X = X_train, y = y_train, cv = 10)\n",
    "print(\"Accuracy: {:.2f} %\".format(accuracies.mean()*100))\n",
    "print(\"Standard Deviation: {:.2f} %\".format(accuracies.std()*100))"
   ]
  },
  {
   "cell_type": "markdown",
   "metadata": {},
   "source": [
    "## Predicting a new result\n"
   ]
  },
  {
   "cell_type": "code",
   "execution_count": 19,
   "metadata": {},
   "outputs": [
    {
     "name": "stdout",
     "output_type": "stream",
     "text": [
      "[1]\n"
     ]
    }
   ],
   "source": [
    "print(classifier.predict(sc.transform([[44,30,1,6]])))"
   ]
  },
  {
   "cell_type": "code",
   "execution_count": null,
   "metadata": {},
   "outputs": [],
   "source": []
  }
 ],
 "metadata": {
  "colab": {
   "collapsed_sections": [],
   "machine_shape": "hm",
   "name": "kernel_svm.ipynb",
   "provenance": [],
   "toc_visible": true
  },
  "kernelspec": {
   "display_name": "Python 3",
   "language": "python",
   "name": "python3"
  },
  "language_info": {
   "codemirror_mode": {
    "name": "ipython",
    "version": 3
   },
   "file_extension": ".py",
   "mimetype": "text/x-python",
   "name": "python",
   "nbconvert_exporter": "python",
   "pygments_lexer": "ipython3",
   "version": "3.8.8"
  }
 },
 "nbformat": 4,
 "nbformat_minor": 1
}
